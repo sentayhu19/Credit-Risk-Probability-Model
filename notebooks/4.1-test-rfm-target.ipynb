{
 "cells": [
  {
   "cell_type": "markdown",
   "metadata": {},
   "source": [
    "# Task-4: RFM Proxy-Target Smoke Test"
   ]
  },
  {
   "cell_type": "code",
   "execution_count": 1,
   "metadata": {},
   "outputs": [
    {
     "name": "stdout",
     "output_type": "stream",
     "text": [
      "Using project root: C:\\Users\\senta\\OneDrive\\Documents\\Proj\\10 Ac\\Credit-Risk-Probability-Model\n"
     ]
    }
   ],
   "source": [
    "from pathlib import Path\n",
    "import sys, pandas as pd, numpy as np\n",
    "\n",
    "# 1️⃣ ensure project root on path\n",
    "PROJECT_ROOT = (Path('..') if Path.cwd().name == 'notebooks' else Path.cwd()).resolve()\n",
    "if str(PROJECT_ROOT) not in sys.path:\n",
    "    sys.path.append(str(PROJECT_ROOT))\n",
    "print('Using project root:', PROJECT_ROOT)\n",
    "\n",
    "from src.features import add_rfm_target\n"
   ]
  },
  {
   "cell_type": "code",
   "execution_count": 2,
   "metadata": {},
   "outputs": [
    {
     "name": "stdout",
     "output_type": "stream",
     "text": [
      "['TransactionId', 'BatchId', 'AccountId', 'SubscriptionId', 'CustomerId', 'CurrencyCode', 'CountryCode', 'ProviderId', 'ProductId', 'ProductCategory', 'ChannelId', 'Amount', 'Value', 'TransactionStartTime', 'PricingStrategy', 'FraudResult']\n",
      "Loaded C:\\Users\\senta\\OneDrive\\Documents\\Proj\\10 Ac\\Credit-Risk-Probability-Model\\data\\data.csv → 95,662 rows\n",
      "         TransactionId         BatchId       AccountId       SubscriptionId  \\\n",
      "0  TransactionId_76871   BatchId_36123  AccountId_3957   SubscriptionId_887   \n",
      "1  TransactionId_73770   BatchId_15642  AccountId_4841  SubscriptionId_3829   \n",
      "2  TransactionId_26203   BatchId_53941  AccountId_4229   SubscriptionId_222   \n",
      "3    TransactionId_380  BatchId_102363   AccountId_648  SubscriptionId_2185   \n",
      "4  TransactionId_28195   BatchId_38780  AccountId_4841  SubscriptionId_3829   \n",
      "\n",
      "        CustomerId CurrencyCode  CountryCode    ProviderId     ProductId  \\\n",
      "0  CustomerId_4406          UGX          256  ProviderId_6  ProductId_10   \n",
      "1  CustomerId_4406          UGX          256  ProviderId_4   ProductId_6   \n",
      "2  CustomerId_4683          UGX          256  ProviderId_6   ProductId_1   \n",
      "3   CustomerId_988          UGX          256  ProviderId_1  ProductId_21   \n",
      "4   CustomerId_988          UGX          256  ProviderId_4   ProductId_6   \n",
      "\n",
      "      ProductCategory    ChannelId   Amount  Value TransactionStartTime  \\\n",
      "0             airtime  ChannelId_3   1000.0   1000  2018-11-15 02:18:49   \n",
      "1  financial_services  ChannelId_2    -20.0     20  2018-11-15 02:19:08   \n",
      "2             airtime  ChannelId_3    500.0    500  2018-11-15 02:44:21   \n",
      "3        utility_bill  ChannelId_3  20000.0  21800  2018-11-15 03:32:55   \n",
      "4  financial_services  ChannelId_2   -644.0    644  2018-11-15 03:34:21   \n",
      "\n",
      "   PricingStrategy  FraudResult  is_high_risk  \n",
      "0                2            0             0  \n",
      "1                2            0             0  \n",
      "2                2            0             1  \n",
      "3                2            0             0  \n",
      "4                2            0             0  \n",
      "High-risk distribution: {0: 84608, 1: 11054}\n"
     ]
    }
   ],
   "source": [
    "import pandas as pd\n",
    "df = pd.read_csv(\"../data/data.csv\", nrows=5)\n",
    "print(df.columns.tolist())\n",
    "# 2️⃣ load or create sample data\n",
    "csv_path = PROJECT_ROOT / 'data' /'data.csv'\n",
    "if csv_path.exists():\n",
    "    df = pd.read_csv(csv_path)\n",
    "    print(f'Loaded {csv_path} → {df.shape[0]:,} rows')\n",
    "else:\n",
    "    print('⚠️  No CSV found – generating synthetic data')\n",
    "    _n = 100\n",
    "    df = pd.DataFrame({\n",
    "        'CustomerId': np.random.randint(1, 20, _n),\n",
    "        'TransactionStartTime': pd.date_range('2024-01-01', periods=_n, freq='3d'),\n",
    "        'Amount': np.random.uniform(20, 500, _n)\n",
    "    })\n",
    "\n",
    "# 3️⃣ add proxy target\n",
    "out = add_rfm_target(df, snapshot_date='2025-01-01')\n",
    "print(out.head())\n",
    "print('High-risk distribution:', out['is_high_risk'].value_counts().to_dict())\n"
   ]
  }
 ],
 "metadata": {
  "kernelspec": {
   "display_name": "Python 3",
   "language": "python",
   "name": "python3"
  },
  "language_info": {
   "codemirror_mode": {
    "name": "ipython",
    "version": 3
   },
   "file_extension": ".py",
   "mimetype": "text/x-python",
   "name": "python",
   "nbconvert_exporter": "python",
   "pygments_lexer": "ipython3",
   "version": "3.10.0"
  }
 },
 "nbformat": 4,
 "nbformat_minor": 5
}
