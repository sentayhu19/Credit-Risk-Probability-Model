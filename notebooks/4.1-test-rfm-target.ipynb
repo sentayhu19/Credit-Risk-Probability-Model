{
 "cells": [
  {
   "cell_type": "markdown",
   "metadata": {},
   "source": [
    "# Task-4: RFM Proxy-Target Smoke Test"
   ]
  },
  {
   "cell_type": "code",
   "execution_count": null,
   "id": "4d9fd2e6",
   "metadata": {},
   "outputs": [],
   "source": [
    "from pathlib import Path\n",
    "import sys, pandas as pd, numpy as np\n",
    "\n",
    "# 1️⃣ ensure project root on path\n",
    "PROJECT_ROOT = (Path('..') if Path.cwd().name == 'notebooks' else Path.cwd()).resolve()\n",
    "if str(PROJECT_ROOT) not in sys.path:\n",
    "    sys.path.append(str(PROJECT_ROOT))\n",
    "print('Using project root:', PROJECT_ROOT)\n",
    "\n",
    "from src.features import add_rfm_target\n"
   ]
  },
  {
   "cell_type": "code",
   "execution_count": null,
   "id": "a70af9e0",
   "metadata": {},
   "outputs": [],
   "source": [
    "import pandas as pd\n",
    "df = pd.read_csv(\"../data/data.csv\", nrows=5)\n",
    "print(df.columns.tolist())\n",
    "# 2️⃣ load or create sample data\n",
    "csv_path = PROJECT_ROOT / 'data' /'data.csv'\n",
    "if csv_path.exists():\n",
    "    df = pd.read_csv(csv_path)\n",
    "    print(f'Loaded {csv_path} → {df.shape[0]:,} rows')\n",
    "else:\n",
    "    print('⚠️  No CSV found – generating synthetic data')\n",
    "    _n = 100\n",
    "    df = pd.DataFrame({\n",
    "        'CustomerId': np.random.randint(1, 20, _n),\n",
    "        'TransactionStartTime': pd.date_range('2024-01-01', periods=_n, freq='3d'),\n",
    "        'Amount': np.random.uniform(20, 500, _n)\n",
    "    })\n",
    "\n",
    "# 3️⃣ add proxy target\n",
    "out = add_rfm_target(df, snapshot_date='2025-01-01')\n",
    "print(out.head())\n",
    "print('High-risk distribution:', out['is_high_risk'].value_counts().to_dict())\n"
   ]
  }
 ],
 "metadata": {
  "kernelspec": {
   "display_name": "Python 3",
   "language": "python",
   "name": "python3"
  },
  "language_info": {
   "codemirror_mode": {
    "name": "ipython",
    "version": 3
   },
   "file_extension": ".py",
   "mimetype": "text/x-python",
   "name": "python",
   "nbconvert_exporter": "python",
   "pygments_lexer": "ipython3",
   "version": "3.10.0"
  }
 },
 "nbformat": 4,
 "nbformat_minor": 5
}
