{
 "cells": [
  {
   "cell_type": "markdown",
   "metadata": {},
   "source": [
    "# Task 3 – Feature Engineering Smoke-Test\n",
    "This notebook loads a sample transactions CSV, runs the `build_pipeline()` function defined in `src/features/feature_pipeline.py`, and verifies that it returns a model-ready feature matrix without errors."
   ]
  },
  {
   "cell_type": "code",
   "execution_count": 1,
   "id": "30086649",
   "metadata": {},
   "outputs": [
    {
     "name": "stdout",
     "output_type": "stream",
     "text": [
      "Using project root: C:\\Users\\senta\\OneDrive\\Documents\\Proj\\10 Ac\\Credit-Risk-Probability-Model\n",
      "⚠️  No CSV found – generating synthetic data for demo\n",
      "✅ Pipeline succeeded → output shape: (100, 12)\n"
     ]
    }
   ],
   "source": [
    "# --- Task-3 smoke-test --------------------------------------------------------\n",
    "from pathlib import Path\n",
    "import sys, pandas as pd, numpy as np\n",
    "\n",
    "# 1️⃣  ensure project root is on sys.path\n",
    "PROJECT_ROOT = (Path(\"..\") if Path.cwd().name == \"notebooks\" else Path.cwd()).resolve()\n",
    "if str(PROJECT_ROOT) not in sys.path:\n",
    "    sys.path.append(str(PROJECT_ROOT))\n",
    "print(\"Using project root:\", PROJECT_ROOT)\n",
    "\n",
    "# 2️⃣  import pipeline once path is set\n",
    "import src.features.feature_pipeline as fp\n",
    "from src.features.feature_pipeline import build_pipeline, TARGET\n",
    "\n",
    "# If your timestamp column is NOT named 'TransactionDate', set it here\n",
    "RAW_DATE_COL = \"TransDate\"          # <–– change to the actual column name\n",
    "if RAW_DATE_COL != fp.DATETIME_COL:\n",
    "    fp.DATETIME_COL = RAW_DATE_COL\n",
    "\n",
    "# 3️⃣  locate sample data  (add more paths if your layout differs)\n",
    "candidate_files = [\n",
    "    PROJECT_ROOT / \"data\" / \"processed\" / \"transactions.csv\",\n",
    "    PROJECT_ROOT / \"data\" / \"transactions.csv\",\n",
    "]\n",
    "for path in candidate_files:\n",
    "    if path.exists():\n",
    "        CSV_PATH = path\n",
    "        df = pd.read_csv(CSV_PATH)\n",
    "        print(f\"Loaded {CSV_PATH}  →  {df.shape[0]:,} rows × {df.shape[1]} cols\")\n",
    "        break\n",
    "else:\n",
    "    # fallback: generate a tiny synthetic frame so the pipeline still runs\n",
    "    print(\"⚠️  No CSV found – generating synthetic data for demo\")\n",
    "    _n = 100\n",
    "    df = pd.DataFrame({\n",
    "        \"CustomerId\": np.random.randint(1, 20, _n),\n",
    "        fp.DATETIME_COL: pd.date_range(\"2024-01-01\", periods=_n, freq=\"h\"),\n",
    "        \"Amount\": np.random.uniform(10, 1000, _n),\n",
    "        \"TransactionType\": np.random.choice([\"PAYMENT\", \"TRANSFER\"], _n),\n",
    "        \"Channel\": np.random.choice([\"WEB\", \"POS\"], _n),\n",
    "        TARGET: np.random.randint(0, 2, _n),\n",
    "    })\n",
    "\n",
    "# 4️⃣  run pipeline\n",
    "y = df[TARGET]\n",
    "X = df.drop(columns=[TARGET])\n",
    "\n",
    "pipe = build_pipeline()\n",
    "X_ready = pipe.fit_transform(X, y)\n",
    "\n",
    "print(\"✅ Pipeline succeeded → output shape:\", X_ready.shape)\n",
    "# ----------------------------------------------------------------------------- "
   ]
  }
 ],
 "metadata": {
  "kernelspec": {
   "display_name": "Python 3",
   "language": "python",
   "name": "python3"
  },
  "language_info": {
   "codemirror_mode": {
    "name": "ipython",
    "version": 3
   },
   "file_extension": ".py",
   "mimetype": "text/x-python",
   "name": "python",
   "nbconvert_exporter": "python",
   "pygments_lexer": "ipython3",
   "version": "3.10.0"
  },
  "orig_nbformat": 4
 },
 "nbformat": 4,
 "nbformat_minor": 5
}
